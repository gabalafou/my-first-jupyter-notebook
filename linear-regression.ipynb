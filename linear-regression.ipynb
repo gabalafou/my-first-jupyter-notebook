{
 "cells": [
  {
   "cell_type": "markdown",
   "source": [
    "# That one time I used linear regression for UI development\n",
    "\n",
    "Gabriel Fouasnon <<gabriel@fouasnon.com>>\n",
    "\n",
    "September 16, 2021\n",
    "\n",
    "For my first Jupyter notebook, I decided to redo something I recently did in Apple Numbers.\n",
    "\n",
    "I'm a frontend React/JavaScript engineer. Recently, I worked on a \"get out the vote\" web site with a friend in Germany. The designer working on the project gave us a series of wireframes for the web site. One of the wireframes presented a carousel. Site visitors could swipe left and right on the carousel to choose from one of five different messages. Once they chose a message they could then share it with their friends. \n",
    "\n",
    "After doing a web search and playing around with various third-party carousel modules, I chose to use Pure React Carousel: https://github.com/express-labs/pure-react-carousel. It seemed to be the least intrusive, most minimal carousel out there. Plus, our web site was written in React, so it made sense.\n",
    "\n",
    "Here's one of the issues I encountered with Pure React Carousel. It requires you to set an aspect ratio for the carousel slides upfront, like so:\n",
    "\n",
    "```jsx\n",
    "<CarouselProvider\n",
    "  naturalSlideWidth={16}\n",
    "  naturalSlideHeight={9}\n",
    ">\n",
    "```\n",
    "\n",
    "You might call the above example an HDTV carousel since it would set all of the slides to have a widescreen 16:9 (width:height) aspect ratio.\n",
    "\n",
    "Our problem with having to set the aspect ratio in advance is that we weren't using photos (whose heights and widths are fixed in advance); we were using text paragraphs, and as you know, a paragraph gets taller the skinnier you make it. For example:\n",
    "\n",
    "```\n",
    "# Wide, short paragraph:\n",
    "The quick brown fox jumped over the lazy dog.\n",
    "\n",
    "# Skinny, \n",
    "# tall \n",
    "# paragraph:\n",
    "The quick\n",
    "brown fox\n",
    "jumped over\n",
    "the lazy \n",
    "dog.\n",
    "```\n",
    "\n",
    "So here's what I did.\n",
    "\n",
    "I loaded our web site on three different devices (a laptop, a phone, and an even skinnier phone). I then measured the height of the tallest paragraph against the width of our main content column. (By the way, in order to do that quickly and efficiently, I used the device toolbar feature in Chrome Dev Tools. See https://developer.chrome.com/docs/devtools/device-mode/#viewport for more information.)\n",
    "\n",
    "From playing around, I knew that the carousel module did not need extremely high precision with the aspect ratio. It just needed to be roughly close to the aspect ratio of the rendered text. So I figured I could just do a simple linear regression on the (width, height) data points.\n",
    "\n",
    "At this point, I used the `LINEST` function in Apple Numbers to do a simple linear regression on my three data points. In Numbers, I got the following formula:\n",
    "\n",
    "```\n",
    "y = -1.966x + 1524\n",
    "```\n",
    "\n",
    "where `y` represents the __height__ of text/message, and `x` represents the __width__ of the main content column.\n",
    "\n",
    "For my first Jupyter notebook, I decided to try to do the same thing that I did in Apple Numbers. I did a [DuckDuckGo search](https://duckduckgo.com/?q=linear+regression.ipynb) and found the following linear regression tutorial, which I used for this notebook:\n",
    "https://github.com/justmarkham/DAT4/blob/master/notebooks/08_linear_regression.ipynb"
   ],
   "metadata": {
    "tags": []
   }
  },
  {
   "cell_type": "markdown",
   "source": [
    "## Load in the data\n",
    "\n",
    "The first thing we have to do is import the __pandas__ library, which gives us tools to load and plot our data."
   ],
   "metadata": {}
  },
  {
   "cell_type": "code",
   "execution_count": 1,
   "source": [
    "# imports\n",
    "import pandas as pd"
   ],
   "outputs": [],
   "metadata": {}
  },
  {
   "cell_type": "markdown",
   "source": [
    "Next we will use pandas to load our data. Remember that width refers to the width of the main content column of our web site, and height is the height of the tallest message in our carousel of five messages."
   ],
   "metadata": {}
  },
  {
   "cell_type": "code",
   "execution_count": 2,
   "source": [
    "data = pd.read_csv('./screen-ratios-x-y.csv', index_col=\"device\")\n",
    "data.head()"
   ],
   "outputs": [
    {
     "output_type": "execute_result",
     "data": {
      "text/html": [
       "<div>\n",
       "<style scoped>\n",
       "    .dataframe tbody tr th:only-of-type {\n",
       "        vertical-align: middle;\n",
       "    }\n",
       "\n",
       "    .dataframe tbody tr th {\n",
       "        vertical-align: top;\n",
       "    }\n",
       "\n",
       "    .dataframe thead th {\n",
       "        text-align: right;\n",
       "    }\n",
       "</style>\n",
       "<table border=\"1\" class=\"dataframe\">\n",
       "  <thead>\n",
       "    <tr style=\"text-align: right;\">\n",
       "      <th></th>\n",
       "      <th>width</th>\n",
       "      <th>height</th>\n",
       "    </tr>\n",
       "    <tr>\n",
       "      <th>device</th>\n",
       "      <th></th>\n",
       "      <th></th>\n",
       "    </tr>\n",
       "  </thead>\n",
       "  <tbody>\n",
       "    <tr>\n",
       "      <th>laptop</th>\n",
       "      <td>547</td>\n",
       "      <td>457</td>\n",
       "    </tr>\n",
       "    <tr>\n",
       "      <th>iphone x</th>\n",
       "      <td>375</td>\n",
       "      <td>750</td>\n",
       "    </tr>\n",
       "    <tr>\n",
       "      <th>iphone se</th>\n",
       "      <td>320</td>\n",
       "      <td>922</td>\n",
       "    </tr>\n",
       "  </tbody>\n",
       "</table>\n",
       "</div>"
      ],
      "text/plain": [
       "           width  height\n",
       "device                  \n",
       "laptop       547     457\n",
       "iphone x     375     750\n",
       "iphone se    320     922"
      ]
     },
     "metadata": {},
     "execution_count": 2
    }
   ],
   "metadata": {}
  },
  {
   "cell_type": "markdown",
   "source": [
    "Next we use pandas to visualize our three data points on a graph."
   ],
   "metadata": {}
  },
  {
   "cell_type": "code",
   "execution_count": 3,
   "source": [
    "# visualize the relationship between the features and the response using scatterplots\n",
    "data.plot(kind='scatter', x='width', y='height')"
   ],
   "outputs": [
    {
     "output_type": "execute_result",
     "data": {
      "text/plain": [
       "<AxesSubplot:xlabel='width', ylabel='height'>"
      ]
     },
     "metadata": {},
     "execution_count": 3
    },
    {
     "output_type": "display_data",
     "data": {
      "image/png": "[encoded data removed]",
      "text/plain": [
       "<Figure size 432x288 with 1 Axes>"
      ]
     },
     "metadata": {
      "needs_background": "light"
     }
    }
   ],
   "metadata": {}
  },
  {
   "cell_type": "markdown",
   "source": [
    "## Find the best fit line\n",
    "\n",
    "We will use the __statsmodels__ library to do a linear regression—i.e., finding the best fit line through our three points."
   ],
   "metadata": {}
  },
  {
   "cell_type": "code",
   "execution_count": 4,
   "source": [
    "# this is the standard import if you're using \"formula notation\" (similar to R)\n",
    "import statsmodels.formula.api as smf\n",
    "\n",
    "# create a fitted model in one line\n",
    "lm = smf.ols(formula='height ~ width', data=data).fit()\n",
    "\n",
    "# print the coefficients\n",
    "lm.params"
   ],
   "outputs": [
    {
     "output_type": "execute_result",
     "data": {
      "text/plain": [
       "Intercept    1523.569469\n",
       "width          -1.965949\n",
       "dtype: float64"
      ]
     },
     "metadata": {},
     "execution_count": 4
    }
   ],
   "metadata": {}
  },
  {
   "cell_type": "markdown",
   "source": [
    "Notice that these two numbers are the same that Apple Numbers produced—the same x-coefficient (slope=-1.966) and the same y-intercept (=1524):\n",
    "\n",
    "```\n",
    "y = -1.966x + 1524\n",
    "```\n",
    "\n",
    "Now let's use the __matplotlib__ library to plot our line and our data side-by-side, just to visually check our work."
   ],
   "metadata": {}
  },
  {
   "cell_type": "code",
   "execution_count": 5,
   "source": [
    "import matplotlib.pyplot as plt\n",
    "\n",
    "# this allows plots to appear directly in the notebook\n",
    "%matplotlib inline\n",
    "\n",
    "widths = pd.DataFrame({'width': [data.width.min(), data.width.max()]})\n",
    "predicted_heights = lm.predict(widths)\n",
    "\n",
    "# first, plot the observed data\n",
    "data.plot(kind='scatter', x='width', y='height')\n",
    "\n",
    "# then, plot the least squares line\n",
    "plt.plot(widths, predicted_heights, c='red', linewidth=2)"
   ],
   "outputs": [
    {
     "output_type": "execute_result",
     "data": {
      "text/plain": [
       "[<matplotlib.lines.Line2D at 0x1a3c47730>]"
      ]
     },
     "metadata": {},
     "execution_count": 5
    },
    {
     "output_type": "display_data",
     "data": {
      "image/png": "[encoded data removed]",
      "text/plain": [
       "<Figure size 432x288 with 1 Axes>"
      ]
     },
     "metadata": {
      "needs_background": "light"
     }
    }
   ],
   "metadata": {}
  },
  {
   "cell_type": "markdown",
   "source": [
    "## Conclusion\n",
    "\n",
    "The best fit line doesn't perfectly fit the data points, but as I mentioned, based on my experience of playing around with the carousel module, we just needed the aspect ratio to be approximately correct. \n",
    "\n",
    "This allowed me to solve the issue we were having. As soon as the page loads, my code gets the width of the main column and then plugs that width into the equation we found above. In code, it looks something like this:\n",
    "\n",
    "```jsx\n",
    "const { width } = mainDiv.getBoundingClientRect();\n",
    "const height = -1.966 * width + 1524;\n",
    "return (\n",
    "  <CarouselProvider\n",
    "    naturalSlideWidth={width}\n",
    "    naturalSlideHeight={height}\n",
    "  >\n",
    "  //  ...\n",
    ")\n",
    "```\n",
    "\n",
    "Note that for the sake of simplicity, I omitted the fact that we had a max-width on our main content (div) block. So the above only applied when the width of the page fell below our max-width."
   ],
   "metadata": {}
  }
 ],
 "metadata": {
  "kernelspec": {
   "display_name": "Python 3 (ipykernel)",
   "language": "python",
   "name": "python3"
  },
  "language_info": {
   "codemirror_mode": {
    "name": "ipython",
    "version": 3
   },
   "file_extension": ".py",
   "mimetype": "text/x-python",
   "name": "python",
   "nbconvert_exporter": "python",
   "pygments_lexer": "ipython3",
   "version": "3.9.6"
  }
 },
 "nbformat": 4,
 "nbformat_minor": 5
}